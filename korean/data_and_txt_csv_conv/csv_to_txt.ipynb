{
 "cells": [
  {
   "cell_type": "code",
   "execution_count": 3,
   "metadata": {},
   "outputs": [
    {
     "name": "stdout",
     "output_type": "stream",
     "text": [
      "11188\n",
      "11188\n",
      "Id\n",
      "Sentence\n"
     ]
    }
   ],
   "source": [
    "# csv 파일을 txt 파일로 변환해준다\n",
    "import csv\n",
    "\n",
    "# 읽을 input 파일\n",
    "input_file = './ko_data.csv'\n",
    "# 결과를 입력할 파일\n",
    "result_file = './ko_data.txt'\n",
    "\n",
    "ids = []\n",
    "sentences = []\n",
    "\n",
    "# input 파일을 읽어온다. \n",
    "# 한국어 데이터의 경우 CP949로 인코딩해야 오류가 안 발생함\n",
    "with open(input_file, 'r', encoding='CP949') as f:\n",
    "    rdr = csv.reader(f)\n",
    "    for line in rdr:\n",
    "        ids.append(line[0])\n",
    "        sentences.append(line[1])\n",
    "\n",
    "# 셋 다 길이가 동일해야 함 (11188)\n",
    "print(len(ids))\n",
    "print(len(sentences))\n",
    "\n",
    "# column name 출력 (Id, Sentence, Predicted)\n",
    "print(ids[0])\n",
    "print(sentences[0])\n",
    "\n",
    "with open(result_file, 'w') as f:\n",
    "    wr = csv.writer(f)\n",
    "    for sentence in sentences:\n",
    "        f.write(\"{}\\n\".format(sentence))"
   ]
  },
  {
   "cell_type": "code",
   "execution_count": 4,
   "metadata": {},
   "outputs": [
    {
     "name": "stdout",
     "output_type": "stream",
     "text": [
      "11188\n",
      "11188\n",
      "['Predicted', '1', '0', '1', '1', '0', '1', '0', '1', '0']\n",
      "['Id', 0, 1, 2, 3, 4, 5, 6, 7, 8]\n"
     ]
    }
   ],
   "source": [
    "# csv 파일을 txt 파일로 변환해준다\n",
    "import csv\n",
    "txt_file = './ko_sample.txt'\n",
    "csv_file = './ko_sample.csv'\n",
    "\n",
    "predict = ['Predicted']\n",
    "ids = ['Id']\n",
    "val = 0\n",
    "\n",
    "with open(txt_file, 'r') as f:\n",
    "    for line in f:\n",
    "        l = line.strip()\n",
    "        predict.append(l)\n",
    "        ids.append(val)\n",
    "        val += 1\n",
    "        \n",
    "print(len(predict))\n",
    "print(len(ids))\n",
    "print(predict[:10])\n",
    "print(ids[:10])\n",
    "\n",
    "with open(csv_file, 'w') as f:\n",
    "    wr = csv.writer(f)\n",
    "    for i in range(len(predict)):\n",
    "        wr.writerow([ids[i], predict[i]])"
   ]
  },
  {
   "cell_type": "code",
   "execution_count": null,
   "metadata": {},
   "outputs": [],
   "source": []
  }
 ],
 "metadata": {
  "kernelspec": {
   "display_name": "Python 3",
   "language": "python",
   "name": "python3"
  },
  "language_info": {
   "codemirror_mode": {
    "name": "ipython",
    "version": 3
   },
   "file_extension": ".py",
   "mimetype": "text/x-python",
   "name": "python",
   "nbconvert_exporter": "python",
   "pygments_lexer": "ipython3",
   "version": "3.7.6"
  }
 },
 "nbformat": 4,
 "nbformat_minor": 4
}
